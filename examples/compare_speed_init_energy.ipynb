{
 "cells": [
  {
   "cell_type": "code",
   "execution_count": null,
   "metadata": {},
   "outputs": [],
   "source": [
    "%matplotlib inline"
   ]
  },
  {
   "cell_type": "code",
   "execution_count": null,
   "metadata": {},
   "outputs": [],
   "source": [
    "from sparapy.radiosity_fast import DRadiosityFast\n",
    "from sparapy.radiosity import Radiosity\n",
    "import sparapy.geometry as geo\n",
    "import sparapy as sp\n",
    "import cProfile\n",
    "from datetime import datetime\n",
    "\n",
    "\n",
    "sample_walls = [\n",
    "    geo.Polygon(\n",
    "        [[0, 0, 0], [1, 0, 0], [1, 0, 1], [0, 0, 1]],\n",
    "        [1, 0, 0], [0, 1, 0]),\n",
    "    geo.Polygon(\n",
    "        [[0, 1, 0], [1, 1, 0], [1, 1, 1], [0, 1, 1]],\n",
    "        [1, 0, 0], [0, -1, 0]),\n",
    "    geo.Polygon(\n",
    "        [[0, 0, 0], [1, 0, 0], [1, 1, 0], [0, 1, 0]],\n",
    "        [1, 0, 0], [0, 0, 1]),\n",
    "    geo.Polygon(\n",
    "        [[0, 0, 1], [1, 0, 1], [1, 1, 1], [0, 1, 1]],\n",
    "        [1, 0, 0], [0, 0, -1]),\n",
    "    geo.Polygon(\n",
    "        [[0, 0, 0], [0, 0, 1], [0, 1, 1], [0, 1, 0]],\n",
    "        [0, 0, 1], [1, 0, 0]),\n",
    "    geo.Polygon(\n",
    "        [[1, 0, 0], [1, 0, 1], [1, 1, 1], [1, 1, 0]],\n",
    "        [0, 0, 1], [-1, 0, 0]),\n",
    "]\n",
    "\n",
    "\n"
   ]
  },
  {
   "cell_type": "code",
   "execution_count": null,
   "metadata": {},
   "outputs": [],
   "source": [
    "\n",
    "cProfile.run('radiosity = DRadiosityFast.from_polygon(sample_walls, 0.005)', )"
   ]
  },
  {
   "cell_type": "code",
   "execution_count": null,
   "metadata": {},
   "outputs": [],
   "source": []
  },
  {
   "cell_type": "code",
   "execution_count": null,
   "metadata": {},
   "outputs": [],
   "source": [
    "# first call it need to compline, thats why its a bit slower\n",
    "# and this is parallelized\n",
    "start = datetime.now()\n",
    "cProfile.run('(energy, distance) = radiosity.init_energy([0.5, 0.5, 0.5])', )\n",
    "first_fast = datetime.now() - start"
   ]
  },
  {
   "cell_type": "code",
   "execution_count": null,
   "metadata": {},
   "outputs": [],
   "source": [
    "# second time its very fast since its already compiled\n",
    "# without numda it took 0.76s no its 0.030s on my machine\n",
    "start = datetime.now()\n",
    "cProfile.run('(energy, distance) = radiosity.init_energy([0.5, 0.5, 0.5])', )\n",
    "second_fast = datetime.now() - start"
   ]
  },
  {
   "cell_type": "code",
   "execution_count": null,
   "metadata": {},
   "outputs": [],
   "source": [
    "# Lets try the initial implementation\n",
    "cProfile.run('radiosity_old = Radiosity(sample_walls, 0.005, 0, 1)')"
   ]
  },
  {
   "cell_type": "code",
   "execution_count": null,
   "metadata": {},
   "outputs": [],
   "source": [
    "def init_energy(rad, source_pos):\n",
    "    source = geo.SoundSource(source_pos, [1, 0, 0], [0, 0, 1])\n",
    "    E_matrix = []\n",
    "    for patches in rad.patch_list:\n",
    "        patches.init_energy_exchange(\n",
    "            rad.max_order_k, rad.ir_length_s, source,\n",
    "            sampling_rate=rad.sampling_rate)\n",
    "        E_matrix.append(patches.E_matrix)\n",
    "    return E_matrix\n",
    "\n",
    "start = datetime.now()\n",
    "cProfile.run('E_matrix = init_energy(radiosity_old, [0.5, 0.5, 0.5])')\n",
    "slow = datetime.now() - start"
   ]
  },
  {
   "cell_type": "code",
   "execution_count": null,
   "metadata": {},
   "outputs": [],
   "source": [
    "print(f'number of patches: {radiosity.n_patches}')\n",
    "print(f'{slow/first_fast} faster than the old implementation (first call)')\n",
    "print(f'{slow/second_fast} faster than the old implementation (second call)')"
   ]
  },
  {
   "cell_type": "code",
   "execution_count": null,
   "metadata": {},
   "outputs": [],
   "source": [
    "import numpy as np\n",
    "max_sizes = np.array([0.5, 0.1, 0.05, 0.01, 0.005])\n",
    "# max_sizes = np.array([0.1, 0.01])\n",
    "fast_first = np.zeros_like(max_sizes)\n",
    "fast_second = np.zeros_like(max_sizes)\n",
    "slow = np.zeros_like(max_sizes)\n",
    "number_of_patches = np.zeros_like(max_sizes)\n",
    "repeat = 10\n",
    "for i, max_size in enumerate(max_sizes):\n",
    "    print(f'run: {max_size}')\n",
    "    # run fast two times\n",
    "    radiosity = DRadiosityFast.from_polygon(sample_walls, max_size)\n",
    "    start = datetime.now()\n",
    "    (energy, distance) = radiosity.init_energy([0.5, 0.5, 0.5])\n",
    "    fast_first[i] = (datetime.now() - start).microseconds\n",
    "    start = datetime.now()\n",
    "    for _ in range(repeat):\n",
    "        (energy, distance) = radiosity.init_energy([0.5, 0.5, 0.5])\n",
    "    fast_second[i] = (datetime.now() - start).microseconds/repeat\n",
    "    number_of_patches[i] = radiosity.n_patches\n",
    "    # Run old\n",
    "    radiosity_old = Radiosity(sample_walls, max_size, 0, 1)\n",
    "    start = datetime.now()\n",
    "    for _ in range(repeat):\n",
    "        E_matrix = init_energy(radiosity_old, [0.5, 0.5, 0.5])\n",
    "    slow[i] = (datetime.now() - start).microseconds/repeat"
   ]
  },
  {
   "cell_type": "code",
   "execution_count": null,
   "metadata": {},
   "outputs": [],
   "source": [
    "import matplotlib.pyplot as plt\n",
    "\n",
    "plt.figure()\n",
    "ax = plt.gca()\n",
    "# ax.semilogy(number_of_patches, fast_first*1e-6, label='fast implementation (first call)')\n",
    "ax.semilogy(number_of_patches, fast_second*1e-6, label='fast implementation (second call)', marker='o')\n",
    "ax.semilogy(number_of_patches, slow*1e-6, label='old implementation (classes)', marker='o')\n",
    "ax.grid()\n",
    "ax.set_xscale('log')\n",
    "ax.set_xlabel('number of patches')\n",
    "ax.set_ylabel('time [s]')\n",
    "ax.set_title(f'mean time to calculate initial energy (n={repeat})')\n",
    "plt.legend()"
   ]
  },
  {
   "cell_type": "code",
   "execution_count": null,
   "metadata": {},
   "outputs": [],
   "source": []
  }
 ],
 "metadata": {
  "kernelspec": {
   "display_name": "sparapy",
   "language": "python",
   "name": "python3"
  },
  "language_info": {
   "codemirror_mode": {
    "name": "ipython",
    "version": 3
   },
   "file_extension": ".py",
   "mimetype": "text/x-python",
   "name": "python",
   "nbconvert_exporter": "python",
   "pygments_lexer": "ipython3",
   "version": "3.11.9"
  }
 },
 "nbformat": 4,
 "nbformat_minor": 2
}
