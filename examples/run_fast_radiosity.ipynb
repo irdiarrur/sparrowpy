{
 "cells": [
  {
   "cell_type": "code",
   "execution_count": 1,
   "metadata": {},
   "outputs": [],
   "source": [
    "\"\"\"Test the radiosity.Radiosity module.\"\"\"\n",
    "import numpy as np\n",
    "import pyfar as pf\n",
    "import sparapy as sp\n",
    "import matplotlib.pyplot as plt\n",
    "from datetime import datetime\n",
    "%matplotlib inline\n",
    "# %matplotlib ipympl"
   ]
  },
  {
   "cell_type": "markdown",
   "metadata": {},
   "source": [
    "Define the parameters and geometry for the simulation."
   ]
  },
  {
   "cell_type": "code",
   "execution_count": 2,
   "metadata": {},
   "outputs": [],
   "source": [
    "# Define parameters\n",
    "X = 3\n",
    "Y = 3\n",
    "Z = 3\n",
    "patch_size = 0.5\n",
    "ir_length_s = 1\n",
    "sampling_rate = 100\n",
    "max_order_k = 60\n",
    "speed_of_sound = 346.18\n",
    "absorption = 0.8\n",
    "\n",
    "# create geometry\n",
    "walls = sp.testing.shoebox_room_stub(X, Y, Z)\n",
    "source_pos = np.array([1.5, 1.5, 1.5])\n",
    "source = sp.geometry.SoundSource(source_pos, [0, 1, 0], [0, 0, 1])\n",
    "receiver_pos = np.array([[1.5, 1.5, 1.5]])"
   ]
  },
  {
   "cell_type": "markdown",
   "metadata": {},
   "source": [
    "Calculate new fast approach"
   ]
  },
  {
   "cell_type": "code",
   "execution_count": 3,
   "metadata": {},
   "outputs": [
    {
     "name": "stderr",
     "output_type": "stream",
     "text": [
      "d:\\dev\\sparapy\\.conda\\Lib\\site-packages\\pyfar\\classes\\coordinates.py:1050: PyfarDeprecationWarning: 'This function will be deprecated in pyfar 0.8.0 in favor of spharpy.samplings.SamplingSphere.'\n",
      "  warnings.warn((\n",
      "C:\\Users\\fatela\\AppData\\Local\\Temp\\ipykernel_16596\\4242122517.py:14: UserWarning: Gimbal lock detected. Setting third angle to zero since it is not possible to uniquely determine all angles.\n",
      "  radiosity_fast.set_wall_scattering(\n"
     ]
    }
   ],
   "source": [
    "start = datetime.now()\n",
    "\n",
    "# create object\n",
    "radiosity_fast = sp.DRadiosityFast.from_polygon(walls, patch_size)\n",
    "\n",
    "# create directional scattering data (totally diffuse)\n",
    "sources = pf.Coordinates(0, 0, 1)\n",
    "receivers = pf.Coordinates(0, 0, 1)\n",
    "frequencies = np.array([1000])\n",
    "data_scattering = pf.FrequencyData(\n",
    "    np.ones((sources.csize, receivers.csize, frequencies.size)), frequencies)\n",
    "\n",
    "# set directional scattering data\n",
    "radiosity_fast.set_wall_scattering(\n",
    "    np.arange(len(walls)), data_scattering, sources, receivers)\n",
    "\n",
    "# set air absorption\n",
    "radiosity_fast.set_air_attenuation(\n",
    "    pf.FrequencyData(\n",
    "        np.zeros_like(data_scattering.frequencies),\n",
    "        data_scattering.frequencies))\n",
    "\n",
    "# set absorption coefficient\n",
    "radiosity_fast.set_wall_absorption(\n",
    "    np.arange(len(walls)),\n",
    "    pf.FrequencyData(\n",
    "        np.zeros_like(data_scattering.frequencies)+absorption,\n",
    "        data_scattering.frequencies))\n"
   ]
  },
  {
   "cell_type": "code",
   "execution_count": 4,
   "metadata": {},
   "outputs": [
    {
     "name": "stderr",
     "output_type": "stream",
     "text": [
      "D:\\dev\\sparapy\\sparapy\\radiosity_fast\\form_factor.py:171: NumbaPerformanceWarning: \u001b[1m\u001b[1m\u001b[1m\u001b[1m\u001b[1m\u001b[1m\u001b[1m\u001b[1mnp.dot() is faster on contiguous arrays, called on (Array(float64, 1, 'A', False, aligned=True), Array(float64, 1, 'C', False, aligned=True))\u001b[0m\u001b[0m\u001b[0m\u001b[0m\u001b[0m\u001b[0m\u001b[0m\u001b[0m\n",
      "  form_factors[i,j] = u_ff(patches_points[i], patches_normals[i], patches_areas[i], patches_points[j], patches_normals[j], patches_areas[j])\n"
     ]
    }
   ],
   "source": [
    "# calculate from factors including directivity and absorption\n",
    "radiosity_fast.bake_geometry(ff_method=\"universal\",algorithm=\"order\")\n",
    "\n",
    "radiosity_fast.init_source_energy(source_pos,ff_method=\"universal\",algorithm=\"order\")"
   ]
  },
  {
   "cell_type": "code",
   "execution_count": 5,
   "metadata": {},
   "outputs": [],
   "source": [
    "radiosity_fast.calculate_energy_exchange(\n",
    "        receiver_pos=receiver_pos, speed_of_sound=speed_of_sound,\n",
    "        histogram_time_resolution=1/sampling_rate,\n",
    "        histogram_length=ir_length_s, ff_method=\"universal\", algorithm=\"order\",\n",
    "        max_depth=max_order_k )\n",
    "\n"
   ]
  },
  {
   "cell_type": "code",
   "execution_count": 6,
   "metadata": {},
   "outputs": [
    {
     "name": "stdout",
     "output_type": "stream",
     "text": [
      "(1, 100)\n",
      "Time elapsed: 0:00:54.621106\n"
     ]
    }
   ],
   "source": [
    "ir_fast = radiosity_fast.collect_receiver_energy(receiver_pos=receiver_pos,\n",
    "                                  speed_of_sound=speed_of_sound,\n",
    "                                   histogram_time_resolution=1/sampling_rate\n",
    "                                   )\n",
    "\n",
    "ir_fast = np.sum(radiosity_fast.collect_receiver_energy(receiver_pos=receiver_pos,\n",
    "                                  speed_of_sound=speed_of_sound,\n",
    "                                   histogram_time_resolution=1/sampling_rate,\n",
    "                                    propagation_fx=True\n",
    "                                   ),axis=1)[0]\n",
    "\n",
    "reverberation_fast = pf.Signal(ir_fast, sampling_rate=sampling_rate)\n",
    "\n",
    "print(ir_fast.shape)\n",
    "\n",
    "# stop timer\n",
    "delta = (datetime.now() - start)\n",
    "print(f\"Time elapsed: {delta}\")\n",
    "fast_time_s = (delta.seconds*1e6 + delta.microseconds)/1e6"
   ]
  },
  {
   "cell_type": "markdown",
   "metadata": {},
   "source": [
    "Calculate the analytical reference after Kuttruff."
   ]
  },
  {
   "cell_type": "code",
   "execution_count": 7,
   "metadata": {},
   "outputs": [
    {
     "name": "stdout",
     "output_type": "stream",
     "text": [
      "reverberation distance is 0.927058084855655m\n",
      "reverberation time is 0.04959304031683147s\n"
     ]
    }
   ],
   "source": [
    "\n",
    "S = (2*X*Y) + (2*X*Z) + (2*Y*Z)\n",
    "A = S*absorption\n",
    "alpha_dash = A/S\n",
    "r_h = 1/4*np.sqrt(A/np.pi)\n",
    "print(f'reverberation distance is {r_h}m')\n",
    "V = X*Y*Z\n",
    "RT = 24*np.log(10)/(speed_of_sound)*V/(-S*np.log(1-alpha_dash))\n",
    "print(f'reverberation time is {RT}s')\n",
    "E_reverb_analytical = 4/A\n",
    "t = reverberation_fast.times\n",
    "# Kuttruff Eq 4.7\n",
    "w_0 = E_reverb_analytical/ V\n",
    "t_0 = 0.03\n",
    "# Kuttruff Eq 4.10\n",
    "reverberation_analytic = w_0 * np.exp(+(\n",
    "    speed_of_sound*S*np.log(1-alpha_dash)/(4*V))*(t-t_0))\n",
    "reverberation_analytic = pf.Signal(\n",
    "    reverberation_analytic, sampling_rate=sampling_rate)"
   ]
  },
  {
   "cell_type": "markdown",
   "metadata": {},
   "source": [
    "Plot comparison"
   ]
  },
  {
   "cell_type": "code",
   "execution_count": 8,
   "metadata": {},
   "outputs": [
    {
     "data": {
      "image/png": "[encoded data removed]",
      "text/plain": [
       "<Figure size 640x480 with 1 Axes>"
      ]
     },
     "metadata": {},
     "output_type": "display_data"
    }
   ],
   "source": [
    "plt.figure()\n",
    "pf.plot.time(\n",
    "    reverberation_analytic, dB=True, log_prefix=10,\n",
    "    label=f'analytical E_rev={E_reverb_analytical:0.2f}')\n",
    "\n",
    "pf.plot.time(\n",
    "    reverberation_fast, dB=True, log_prefix=10,\n",
    "    label=f'simulated fast ({fast_time_s:0.2f}s)',\n",
    "    linestyle='--')\n",
    "\n",
    "plt.legend()\n",
    "plt.show()"
   ]
  },
  {
   "cell_type": "code",
   "execution_count": 9,
   "metadata": {},
   "outputs": [
    {
     "name": "stdout",
     "output_type": "stream",
     "text": [
      "Python implementation: CPython\n",
      "Python version       : 3.11.9\n",
      "IPython version      : 8.28.0\n",
      "\n",
      "Compiler    : MSC v.1916 64 bit (AMD64)\n",
      "OS          : Windows\n",
      "Release     : 10\n",
      "Machine     : AMD64\n",
      "Processor   : Intel64 Family 6 Model 165 Stepping 5, GenuineIntel\n",
      "CPU cores   : 16\n",
      "Architecture: 64bit\n",
      "\n",
      "sparapy   : 0.1.0\n",
      "pyfar     : 0.6.8\n",
      "matplotlib: 3.9.2\n",
      "numpy     : 2.0.2\n",
      "\n"
     ]
    }
   ],
   "source": [
    "%load_ext watermark\n",
    "%watermark -v -m -iv"
   ]
  }
 ],
 "metadata": {
  "kernelspec": {
   "display_name": "Python 3",
   "language": "python",
   "name": "python3"
  },
  "language_info": {
   "codemirror_mode": {
    "name": "ipython",
    "version": 3
   },
   "file_extension": ".py",
   "mimetype": "text/x-python",
   "name": "python",
   "nbconvert_exporter": "python",
   "pygments_lexer": "ipython3",
   "version": "3.11.9"
  }
 },
 "nbformat": 4,
 "nbformat_minor": 2
}
