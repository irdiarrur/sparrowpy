{
 "cells": [
  {
   "cell_type": "code",
   "execution_count": null,
   "metadata": {},
   "outputs": [],
   "source": [
    "\"\"\"Test the radiosity.Radiosity module.\"\"\"\n",
    "import os\n",
    "\n",
    "import numpy as np\n",
    "import pyfar as pf\n",
    "import sparapy as sp\n",
    "import matplotlib.pyplot as plt\n",
    "%matplotlib ipympl"
   ]
  },
  {
   "cell_type": "code",
   "execution_count": null,
   "metadata": {},
   "outputs": [],
   "source": [
    "X = 5\n",
    "Y = 6\n",
    "Z = 4\n",
    "patch_size = 1\n",
    "length_histogram = 0.5\n",
    "time_resolution = 1/1000\n",
    "speed_of_sound = 343\n",
    "\n",
    "absorption = 0.1\n",
    "S = (2*X*Y) + (2*X*Z) + (2*Y*Z)\n",
    "A = S*absorption\n",
    "alpha_dash = A/S\n",
    "r_h = 1/4*np.sqrt(A/np.pi)\n",
    "print(f'reverberation distance is {r_h}m')\n",
    "V = X*Y*Z\n",
    "RT = 24*np.log(10)/(speed_of_sound)*V/(-S*np.log(1-alpha_dash))\n",
    "print(f'reverberation time is {RT}s')\n",
    "# create geometry\n",
    "walls = sp.testing.shoebox_room_stub(X, Y, Z)\n",
    "\n",
    "radiosity = sp.radiosity_fast.DRadiosityFast.from_polygon(\n",
    "    walls, patch_size)\n",
    "# create directivity\n",
    "\n",
    "sources = pf.Coordinates(0, 0, 1)\n",
    "receivers = pf.Coordinates(0, 0, 1)\n",
    "frequencies = np.array([500])\n",
    "data_scattering = pf.FrequencyData(\n",
    "    np.ones((sources.csize, receivers.csize, frequencies.size)), frequencies)\n",
    "\n",
    "radiosity.set_wall_scattering(\n",
    "    np.arange(len(walls)), data_scattering, sources, receivers)\n",
    "radiosity.set_air_attenuation(\n",
    "    pf.FrequencyData(\n",
    "        np.zeros_like(data_scattering.frequencies),\n",
    "        data_scattering.frequencies))\n",
    "radiosity.set_wall_absorption(\n",
    "    np.arange(len(walls)),\n",
    "    pf.FrequencyData(\n",
    "        np.zeros_like(data_scattering.frequencies)+absorption,\n",
    "        data_scattering.frequencies))\n",
    "\n"
   ]
  },
  {
   "cell_type": "code",
   "execution_count": null,
   "metadata": {},
   "outputs": [],
   "source": [
    "# run simulation\n",
    "print('Calculating visibility...')\n",
    "radiosity.check_visibility()\n",
    "print('Calculating form factors...')\n",
    "radiosity.calculate_form_factors()\n",
    "print('Calculating directional form factors...')\n",
    "radiosity.calculate_form_factors_directivity()\n"
   ]
  },
  {
   "cell_type": "code",
   "execution_count": null,
   "metadata": {},
   "outputs": [],
   "source": [
    "\n",
    "source_pos = np.array([2, 2, 2])\n",
    "\n",
    "radiosity.init_energy_recursive(source_pos)"
   ]
  },
  {
   "cell_type": "code",
   "execution_count": null,
   "metadata": {},
   "outputs": [],
   "source": [
    "# test energy at receiver\n",
    "receiver_pos = [\n",
    "    [3, 4, 2]\n",
    "    ]\n",
    "threshold_db = -70\n",
    "histograms = []\n",
    "for threshold_db in [-10, -20, -30, -40, -50, -60, -70, -80]:\n",
    "    threshold = 10**(threshold_db/10)\n",
    "    print(f'threshold is {threshold}')\n",
    "    histogram = radiosity.calculate_energy_exchange_recursive(\n",
    "        receiver_pos, speed_of_sound, time_resolution, length_histogram,\n",
    "        threshold=0, max_time=0.1)\n",
    "    histograms.append(histogram.T)\n",
    "irs_new = np.array(histograms).squeeze()\n",
    "reverberation = pf.Signal(irs_new, sampling_rate=1/time_resolution)"
   ]
  },
  {
   "cell_type": "code",
   "execution_count": null,
   "metadata": {},
   "outputs": [],
   "source": [
    "direct_sound_list = []\n",
    "direct_analytic = []\n",
    "for pos in receiver_pos:\n",
    "    r = np.sqrt(np.sum((np.array(pos)-source_pos)**2))\n",
    "    direct_sound = (1/(4 * np.pi * np.square(r)))\n",
    "    delay_dir = int(r/speed_of_sound/time_resolution)\n",
    "    direct_analytic.append(direct_sound)\n",
    "    direct_sound_list.append(pf.signals.impulse(\n",
    "        reverberation.n_samples, delay_dir, direct_sound, 1/time_resolution).time)\n",
    "direct_analytic = np.array(direct_analytic)\n",
    "direct_sound = pf.Signal(\n",
    "    np.array(direct_sound_list).squeeze(), sampling_rate=1/time_resolution)\n",
    "result = pf.utils.concatenate_channels([reverberation, direct_sound])\n"
   ]
  },
  {
   "cell_type": "code",
   "execution_count": null,
   "metadata": {},
   "outputs": [],
   "source": [
    "E_direct = np.sum(direct_sound.time, axis=-1)\n",
    "E_reverb = np.sum(reverberation.time, axis=-1)\n",
    "\n",
    "E_ratio = E_reverb/E_direct\n",
    "\n",
    "E_direct_analytical = 1/(4*np.pi*r**2)\n",
    "E_reverb_analytical = 4/A\n",
    "E_ratio_analytical = E_reverb_analytical/E_direct_analytical"
   ]
  },
  {
   "cell_type": "code",
   "execution_count": null,
   "metadata": {},
   "outputs": [],
   "source": [
    "t = reverberation.times\n",
    "w_0 = E_reverb_analytical/ V # Kuttruff Eq 4.7\n",
    "t_0 = 0.03\n",
    "reverberation_analytic = w_0 * np.exp(+(speed_of_sound*S*np.log(1-alpha_dash)/(4*V))*(t-t_0)) # Kuttruff Eq 4.10\n",
    "reverberation_analytic = pf.Signal(reverberation_analytic, sampling_rate=1/time_resolution)\n",
    "plt.figure()\n",
    "pf.plot.time(\n",
    "    reverberation_analytic, dB=True, log_prefix=10,\n",
    "    label=f'analytical E_rev={E_reverb_analytical:0.2f}', color='r')\n",
    "for i in range(len(receiver_pos)):\n",
    "    e_rel = (E_reverb[i]/E_reverb_analytical)\n",
    "    pf.plot.time(\n",
    "        reverberation[i], dB=True, log_prefix=10,\n",
    "        label=f'simulated E_rev={E_reverb[i]:0.2f} ratio={e_rel:0.2f}',\n",
    "        linestyle='--')\n",
    "plt.legend()\n",
    "plt.show()"
   ]
  },
  {
   "cell_type": "code",
   "execution_count": null,
   "metadata": {},
   "outputs": [],
   "source": [
    "data_scattering.frequencies"
   ]
  },
  {
   "cell_type": "code",
   "execution_count": null,
   "metadata": {},
   "outputs": [],
   "source": []
  },
  {
   "cell_type": "code",
   "execution_count": null,
   "metadata": {},
   "outputs": [],
   "source": []
  }
 ],
 "metadata": {
  "kernelspec": {
   "display_name": "sparapy",
   "language": "python",
   "name": "python3"
  },
  "language_info": {
   "codemirror_mode": {
    "name": "ipython",
    "version": 3
   },
   "file_extension": ".py",
   "mimetype": "text/x-python",
   "name": "python",
   "nbconvert_exporter": "python",
   "pygments_lexer": "ipython3",
   "version": "3.11.9"
  }
 },
 "nbformat": 4,
 "nbformat_minor": 2
}
