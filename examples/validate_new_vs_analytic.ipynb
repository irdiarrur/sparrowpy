{
 "cells": [
  {
   "cell_type": "code",
   "execution_count": null,
   "metadata": {},
   "outputs": [],
   "source": [
    "\"\"\"Test the radiosity.Radiosity module.\"\"\"\n",
    "import os\n",
    "\n",
    "import numpy as np\n",
    "import pyfar as pf\n",
    "import sparapy as sp\n",
    "import matplotlib.pyplot as plt\n",
    "%matplotlib ipympl"
   ]
  },
  {
   "cell_type": "code",
   "execution_count": 5,
   "metadata": {},
   "outputs": [
    {
     "name": "stdout",
     "output_type": "stream",
     "text": [
      "reverberation distance is 0.5426201661567753m\n",
      "reverberation time is 1.2398651513106647s\n"
     ]
    },
    {
     "ename": "AttributeError",
     "evalue": "module 'sparapy' has no attribute 'radiosity_fast'",
     "output_type": "error",
     "traceback": [
      "\u001b[1;31m---------------------------------------------------------------------------\u001b[0m",
      "\u001b[1;31mAttributeError\u001b[0m                            Traceback (most recent call last)",
      "Cell \u001b[1;32mIn[5], line 22\u001b[0m\n\u001b[0;32m     19\u001b[0m \u001b[38;5;66;03m# create geometry\u001b[39;00m\n\u001b[0;32m     20\u001b[0m walls \u001b[38;5;241m=\u001b[39m sp\u001b[38;5;241m.\u001b[39mtesting\u001b[38;5;241m.\u001b[39mshoebox_room_stub(X, Y, Z)\n\u001b[1;32m---> 22\u001b[0m radiosity \u001b[38;5;241m=\u001b[39m \u001b[43msp\u001b[49m\u001b[38;5;241;43m.\u001b[39;49m\u001b[43mradiosity_fast\u001b[49m\u001b[38;5;241m.\u001b[39mDRadiosityFast\u001b[38;5;241m.\u001b[39mfrom_polygon(\n\u001b[0;32m     23\u001b[0m     walls, patch_size)\n\u001b[0;32m     24\u001b[0m \u001b[38;5;66;03m# create directivity\u001b[39;00m\n\u001b[0;32m     26\u001b[0m sources \u001b[38;5;241m=\u001b[39m pf\u001b[38;5;241m.\u001b[39mCoordinates(\u001b[38;5;241m0\u001b[39m, \u001b[38;5;241m0\u001b[39m, \u001b[38;5;241m1\u001b[39m)\n",
      "\u001b[1;31mAttributeError\u001b[0m: module 'sparapy' has no attribute 'radiosity_fast'"
     ]
    }
   ],
   "source": [
    "X = 5\n",
    "Y = 6\n",
    "Z = 4\n",
    "patch_size = 1\n",
    "ir_length_s = 0.5\n",
    "sampling_rate = 1000\n",
    "max_order_k = 2\n",
    "speed_of_sound = 343\n",
    "\n",
    "absorption = 0.1\n",
    "S = (2*X*Y) + (2*X*Z) + (2*Y*Z)\n",
    "A = S*absorption\n",
    "alpha_dash = A/S\n",
    "r_h = 1/4*np.sqrt(A/np.pi)\n",
    "print(f'reverberation distance is {r_h}m')\n",
    "V = X*Y*Z\n",
    "RT = 24*np.log(10)/(speed_of_sound)*V/(-S*np.log(1-alpha_dash))\n",
    "print(f'reverberation time is {RT}s')\n",
    "# create geometry\n",
    "walls = sp.testing.shoebox_room_stub(X, Y, Z)\n",
    "\n",
    "radiosity = sp.radiosity_fast.DRadiosityFast.from_polygon(\n",
    "    walls, patch_size)\n",
    "# create directivity\n",
    "\n",
    "sources = pf.Coordinates(0, 0, 1)\n",
    "receivers = pf.Coordinates(0, 0, 1)\n",
    "frequencies = np.array([500])\n",
    "data_scattering = pf.FrequencyData(\n",
    "    np.ones((sources.csize, receivers.csize, frequencies.size)), frequencies)\n",
    "\n",
    "radiosity.set_wall_scattering(\n",
    "    np.arange(len(walls)), data_scattering, sources, receivers)\n",
    "radiosity.set_air_attenuation(\n",
    "    pf.FrequencyData(\n",
    "        np.zeros_like(data_scattering.frequencies),\n",
    "        data_scattering.frequencies))\n",
    "radiosity.set_wall_absorption(\n",
    "    np.arange(len(walls)),\n",
    "    pf.FrequencyData(\n",
    "        np.zeros_like(data_scattering.frequencies)+absorption,\n",
    "        data_scattering.frequencies))\n",
    "\n"
   ]
  },
  {
   "cell_type": "code",
   "execution_count": null,
   "metadata": {},
   "outputs": [],
   "source": [
    "# run simulation\n",
    "print('Calculating visibility...')\n",
    "radiosity.check_visibility()\n",
    "print('Calculating form factors...')\n",
    "radiosity.calculate_form_factors()\n",
    "print('Calculating directional form factors...')\n",
    "radiosity.calculate_form_factors_directivity()\n",
    "print('Calculating energy exchange...')\n",
    "radiosity.calculate_energy_exchange(max_order_k)\n"
   ]
  },
  {
   "cell_type": "code",
   "execution_count": null,
   "metadata": {},
   "outputs": [],
   "source": [
    "\n",
    "source_pos = np.array([2, 2, 2])\n",
    "\n",
    "radiosity.init_energy(source_pos)"
   ]
  },
  {
   "cell_type": "code",
   "execution_count": null,
   "metadata": {},
   "outputs": [],
   "source": [
    "# test energy at receiver\n",
    "receiver_pos = [\n",
    "    [3, 4, 2]\n",
    "    ]\n",
    "histograms = []\n",
    "\n",
    "for pos in receiver_pos:\n",
    "    histograms.append(radiosity.collect_energy_receiver(\n",
    "        pos, histogram_time_resolution=1/sampling_rate,\n",
    "        histogram_time_length=ir_length_s).T)\n",
    "irs_new = np.array(histograms).squeeze()\n",
    "reverberation = pf.Signal(irs_new, sampling_rate=sampling_rate)"
   ]
  },
  {
   "cell_type": "code",
   "execution_count": null,
   "metadata": {},
   "outputs": [],
   "source": [
    "pf.plot.time(reverberation, dB=True)\n",
    "irs_new.shape"
   ]
  },
  {
   "cell_type": "code",
   "execution_count": null,
   "metadata": {},
   "outputs": [],
   "source": [
    "direct_sound_list = []\n",
    "direct_analytic = []\n",
    "for pos in receiver_pos:\n",
    "    r = np.sqrt(np.sum((np.array(pos)-source_pos)**2))\n",
    "    direct_sound = (1/(4 * np.pi * np.square(r)))\n",
    "    delay_dir = int(r/speed_of_sound*sampling_rate)\n",
    "    direct_analytic.append(direct_sound)\n",
    "    direct_sound_list.append(pf.signals.impulse(\n",
    "        reverberation.n_samples, delay_dir, direct_sound, sampling_rate).time)\n",
    "direct_analytic = np.array(direct_analytic)\n",
    "direct_sound = pf.Signal(\n",
    "    np.array(direct_sound_list).squeeze(), sampling_rate=sampling_rate)\n",
    "result = pf.utils.concatenate_channels([reverberation, direct_sound])\n"
   ]
  },
  {
   "cell_type": "code",
   "execution_count": null,
   "metadata": {},
   "outputs": [],
   "source": [
    "E_direct = np.sum(direct_sound.time, axis=-1)\n",
    "E_reverb = np.sum(reverberation.time, axis=-1)\n",
    "\n",
    "E_ratio = E_reverb/E_direct\n",
    "\n",
    "E_direct_analytical = 1/(4*np.pi*r**2)\n",
    "E_reverb_analytical = 4/A\n",
    "E_ratio_analytical = E_reverb_analytical/E_direct_analytical"
   ]
  },
  {
   "cell_type": "code",
   "execution_count": null,
   "metadata": {},
   "outputs": [],
   "source": [
    "t = reverberation.times\n",
    "w_0 = E_reverb_analytical/ V # Kuttruff Eq 4.7\n",
    "t_0 = 0.03\n",
    "reverberation_analytic = w_0 * np.exp(+(speed_of_sound*S*np.log(1-alpha_dash)/(4*V))*(t-t_0)) # Kuttruff Eq 4.10\n",
    "reverberation_analytic = pf.Signal(reverberation_analytic, sampling_rate=sampling_rate)\n",
    "plt.figure()\n",
    "pf.plot.time(\n",
    "    reverberation_analytic, dB=True, log_prefix=10,\n",
    "    label=f'analytical E_rev={E_reverb_analytical:0.2f}', color='r')\n",
    "for i in range(len(receiver_pos)):\n",
    "    e_rel = (E_reverb[i]/E_reverb_analytical)\n",
    "    pf.plot.time(\n",
    "        reverberation[i], dB=True, log_prefix=10,\n",
    "        label=f'simulated E_rev={E_reverb[i]:0.2f} ratio={e_rel:0.2f}',\n",
    "        linestyle='--')\n",
    "plt.legend()\n",
    "plt.show()"
   ]
  },
  {
   "cell_type": "code",
   "execution_count": null,
   "metadata": {},
   "outputs": [],
   "source": [
    "print(f'E_reverb_analytical: {E_reverb_analytical} == E_reverb: {E_reverb}')\n",
    "print(f'Ratio: {E_reverb/E_reverb_analytical}')\n",
    "# print(f'E_direct_analytical: {direct_analytic} == E_direct: {E_direct}')\n",
    "print(f'Ratio mean: {E_reverb_analytical/np.mean(E_reverb)}')"
   ]
  },
  {
   "cell_type": "code",
   "execution_count": null,
   "metadata": {},
   "outputs": [],
   "source": [
    "data_scattering.frequencies"
   ]
  },
  {
   "cell_type": "code",
   "execution_count": null,
   "metadata": {},
   "outputs": [],
   "source": []
  },
  {
   "cell_type": "code",
   "execution_count": null,
   "metadata": {},
   "outputs": [],
   "source": []
  }
 ],
 "metadata": {
  "kernelspec": {
   "display_name": "sparapy",
   "language": "python",
   "name": "python3"
  },
  "language_info": {
   "codemirror_mode": {
    "name": "ipython",
    "version": 3
   },
   "file_extension": ".py",
   "mimetype": "text/x-python",
   "name": "python",
   "nbconvert_exporter": "python",
   "pygments_lexer": "ipython3",
   "version": "3.12.1"
  }
 },
 "nbformat": 4,
 "nbformat_minor": 2
}
